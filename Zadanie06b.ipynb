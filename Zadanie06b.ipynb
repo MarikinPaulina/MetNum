{
 "cells": [
  {
   "cell_type": "markdown",
   "metadata": {},
   "source": [
    "# Zadanie 06 (b)\n",
    "---\n",
    "#### Wykorzystując procedurę iteracyjną rozwiąż równanie opisujące rozkład temperatury wzdłuż pręta z uwzględnieniem wypromieniowywania ciepła\n",
    "\n",
    "$$\\frac{d^2 T}{dx^2} - \\frac{h_c P}{k A_c} (T-T_s) - \\frac{\\epsilon \\sigma P}{k A_c} (T^4-T_s^4) = 0$$\n",
    "\n",
    "#### dla $0 \\leq x \\leq L$ przyjmując następujące wartości stałych: \n",
    "\n",
    "+ $h_c = 40 ~ \\frac{W}{m^2 K}$\n",
    "+ $P = 0.016~m $\n",
    "+ $k = 240~\\frac{W}{m K} $\n",
    "+ $A_c = 1.6 \\cdot 10^{-5}~m^2 $\n",
    "+ $L = 0.3~m $\n",
    "+ $T(0) = 473~K $\n",
    "+ $T(L) = 293~K $\n",
    "+ $T_s =293~K$ \n",
    "+ $\\sigma = 5.67 \\cdot 10^{-8}~\\frac{W}{m^2 K^4}$\n",
    "+ $\\epsilon = 0.3$.\n",
    "\n",
    "**Punktacja**\n",
    "+ zaimplementowanie układu **1p.**\n",
    "+ rozwiązanie zagadnienia wykorzystując procedurę iteracyjną **3p.**\n",
    "+ przedstawienie wyników na wykresie **1p.**"
   ]
  },
  {
   "cell_type": "markdown",
   "metadata": {},
   "source": [
    "## Teoria\n",
    "---\n",
    "\n",
    "### Metoda iteracyjna\n",
    "Układ dany wzorem \n",
    "\n",
    "$$\\mathbf{A} y + \\Phi = b$$\n",
    "\n",
    "gdzie $\\mathbf{A}$ to macierz współczynników, $\\Phi$ to wektor nieliniowych wyrazów będących funkcją niewiadomych $y_i$ a $b$ to wektor znanych wielkości stałych. Można przedstawić jako\n",
    "\n",
    "$$\\mathbf{A} y^{k+1} = b - \\Phi^k$$\n",
    "\n",
    "stąd jeżeli możliwe jest obliczenie macierzy odwrotnej $\\mathbf{A}^{-1}$\n",
    "\n",
    "$$y^{k+1} = \\mathbf{A}^{-1}(b - \\Phi^k)$$\n",
    "\n",
    "### Rozkład temperatury wzdłuż pręta\n",
    "\n",
    "Rozkład temparatury wzdłuż pręta z uwzględnieniem wypromieniowywania ciepła opisany jest wzorem\n",
    "\n",
    "$$\\frac{d^2 T}{dx^2} - \\frac{h_c P}{k A_c} (T-T_s) - \\frac{\\epsilon \\sigma P}{k A_c} (T^4-T_s^4) = 0$$\n",
    "\n",
    "Stosując trzypunktową różnice zwykłą\n",
    "\n",
    "$$\\frac{d^2 T}{dx^2} - \\beta_a (T-T_s) - \\beta_b (T^4-T_s^4) = 0 \\longrightarrow \\frac{T_{i-1}-2T_i+T_{i+1}}{h^2} - \\beta_a (T_i-T_s) - \\beta_b (T_i^4-T_s^4) = 0$$\n",
    "\n",
    "po przekształceniu\n",
    "\n",
    "$$T_{i-1}-(2+h^2\\beta_a)T_i - h^2\\beta_b T_i^4 + T_{i+1} = - h^2(\\beta_a T_s + \\beta_b T_s^4)$$\n",
    "\n",
    "Dzieląc pret na przykład na $N=5$ odcinków można zapisać równanie w postaci macierzowej\n",
    "\n",
    "$$ \\left[\\begin{array}{cccc} -(2+h^2\\beta_a) & 1 & 0 & 0 \\\\  1 & -(2+h^2\\beta_a) & 1 & 0 \\\\ 0 & 1 & -(2+h^2\\beta_a) & 1 \\\\ 0 & 0 & 1 & -(2+h^2\\beta_a) \\end{array}\\right] \\cdot \\left[\\begin{array}{c} T_{2} \\\\ T_{3} \\\\ T_{4} \\\\ T_{5} \\end{array}\\right] + \\left[\\begin{array}{c} - h^2 \\beta_b T^4_{2} \\\\ - h^2 \\beta_b T^4_{3} \\\\ - h^2 \\beta_b T^4_{4} \\\\ - h^2 \\beta_b T^4_{5} \\end{array}\\right] = \\left[\\begin{array}{c} -h^2 (\\beta_a T_s + \\beta_b T^4_s) - T_1 \\\\ -h^2 (\\beta_a T_s + \\beta_b T^4_s) \\\\ -h^2 (\\beta_a T_s + \\beta_b T^4_s) \\\\ -h^2 (\\beta_a T_s + \\beta_b T^4_s) - T_6 \\end{array}\\right]$$\n",
    "\n",
    "gdzie $T_1 = T(0)$ a $T_6 = T(L)$\n"
   ]
  },
  {
   "cell_type": "markdown",
   "metadata": {},
   "source": [
    "## Wykonanie\n",
    "---\n",
    "Wczytanie bibliotek"
   ]
  },
  {
   "cell_type": "code",
   "execution_count": 1,
   "metadata": {
    "collapsed": true,
    "deletable": false,
    "editable": false
   },
   "outputs": [],
   "source": [
    "import numpy as np\n",
    "import matplotlib.pyplot as plt"
   ]
  },
  {
   "cell_type": "markdown",
   "metadata": {},
   "source": [
    "Przypisanie wartości sałym z równania"
   ]
  },
  {
   "cell_type": "code",
   "execution_count": 2,
   "metadata": {
    "collapsed": true
   },
   "outputs": [],
   "source": [
    "hc = 40\n",
    "P  = 0.016\n",
    "k  = 240\n",
    "Ac = 1.6e-5\n",
    "\n",
    "sigma = 5.67e-8\n",
    "\n",
    "ba = hc*P/(k*Ac)\n",
    "bb = 0.3*sigma*P/(k*Ac)\n",
    "\n",
    "L  = 0.3\n",
    "\n",
    "T0 = 473\n",
    "Tk = 293\n",
    "Ts = 293"
   ]
  },
  {
   "cell_type": "markdown",
   "metadata": {},
   "source": [
    "Implementacja funkcji tworzacej układ"
   ]
  },
  {
   "cell_type": "code",
   "execution_count": 24,
   "metadata": {
    "collapsed": true
   },
   "outputs": [],
   "source": [
    "def system(L, T0, Tk, Ts, ba, bb, N = 5):\n",
    "\n",
    "    A = np.zeros([N-1,N-1])\n",
    "    B = []\n",
    "    \n",
    "    h = L/N\n",
    "    \n",
    "    a = -(2 + ((h**2) * ba))\n",
    "    b = -(h**2)*(ba*Ts + bb*(Ts**4))\n",
    "    for i in range(N-1):\n",
    "        A[i,i] = a\n",
    "        B.append(b)\n",
    "        if(i != 0):\n",
    "            A[i,i-1] = 1\n",
    "            A[i-1,i] = 1\n",
    "        if(i == 0):\n",
    "            B[i] -= T0\n",
    "        if(i == (N-2)):\n",
    "            B[i] -= Tk\n",
    "    \n",
    "    Pf = lambda T: -bb*np.power(T,4)*h**2 # to co dodajemy do lwej strony rownania\n",
    "    \n",
    "    return A, Pf, B"
   ]
  },
  {
   "cell_type": "markdown",
   "metadata": {},
   "source": [
    "Obliczenia macierzy"
   ]
  },
  {
   "cell_type": "code",
   "execution_count": 25,
   "metadata": {
    "collapsed": false
   },
   "outputs": [],
   "source": [
    "A, Pf, B = system(L,T0,Tk,Ts,ba,bb, N=5)"
   ]
  },
  {
   "cell_type": "markdown",
   "metadata": {},
   "source": [
    "Sprawdzenie poprawności"
   ]
  },
  {
   "cell_type": "code",
   "execution_count": 63,
   "metadata": {
    "collapsed": false
   },
   "outputs": [
    {
     "name": "stdout",
     "output_type": "stream",
     "text": [
      "True\n",
      "26.4176\n"
     ]
    }
   ],
   "source": [
    "print(np.isclose(np.linalg.det(A), 26.4176))\n",
    "print(np.linalg.det(A))"
   ]
  },
  {
   "cell_type": "markdown",
   "metadata": {},
   "source": [
    "Implementacja funkcji realizujące algorytm Thomasa"
   ]
  },
  {
   "cell_type": "code",
   "execution_count": 95,
   "metadata": {
    "collapsed": false
   },
   "outputs": [],
   "source": [
    "def iteration(A, Pf, B, T0):\n",
    "    \n",
    "    T = np.linalg.inv(A) @ (B - Pf(T0))\n",
    "    \n",
    "    for i in range(50):\n",
    "        T = np.linalg.inv(A) @ (B - Pf(T))\n",
    "    \n",
    "    T = np.hstack((T0, T))\n",
    "    T = np.hstack((T, Tk))\n",
    "#     print(T)\n",
    "    \n",
    "    return T"
   ]
  },
  {
   "cell_type": "markdown",
   "metadata": {},
   "source": [
    "Obliczenia rozkładu temperatury"
   ]
  },
  {
   "cell_type": "code",
   "execution_count": 96,
   "metadata": {
    "collapsed": false
   },
   "outputs": [],
   "source": [
    "T = iteration(A,Pf,B,T0)"
   ]
  },
  {
   "cell_type": "markdown",
   "metadata": {},
   "source": [
    "Prezentacja wyniku na wykresie"
   ]
  },
  {
   "cell_type": "code",
   "execution_count": 100,
   "metadata": {
    "collapsed": false
   },
   "outputs": [
    {
     "data": {
      "image/png": "[encoded data removed]",
      "text/plain": [
       "<matplotlib.figure.Figure at 0x7efca4f92470>"
      ]
     },
     "metadata": {},
     "output_type": "display_data"
    }
   ],
   "source": [
    "l = np.linspace(0,L,len(T))\n",
    "plt.plot(l,T)\n",
    "plt.show()"
   ]
  },
  {
   "cell_type": "code",
   "execution_count": 98,
   "metadata": {
    "collapsed": false
   },
   "outputs": [
    {
     "data": {
      "text/plain": [
       "array([ 473.        ,  375.52120219,  330.74845816,  309.79774296,\n",
       "        299.39542535,  293.        ])"
      ]
     },
     "execution_count": 98,
     "metadata": {},
     "output_type": "execute_result"
    }
   ],
   "source": [
    "T"
   ]
  }
 ],
 "metadata": {
  "kernelspec": {
   "display_name": "Python 3",
   "language": "python",
   "name": "python3"
  },
  "language_info": {
   "codemirror_mode": {
    "name": "ipython",
    "version": 3
   },
   "file_extension": ".py",
   "mimetype": "text/x-python",
   "name": "python",
   "nbconvert_exporter": "python",
   "pygments_lexer": "ipython3",
   "version": "3.5.3"
  }
 },
 "nbformat": 4,
 "nbformat_minor": 2
}
