{
 "cells": [
  {
   "cell_type": "markdown",
   "metadata": {},
   "source": [
    "# Zadanie 04 (b)\n",
    "---\n",
    "#### Oblicz numeryczną wartość całki $$\\int_{0}^{4} x e^{2x} dx$$ korzystając z metod:\n",
    "+ metody prostokątów\n",
    "+ metody trapezów\n",
    "+ metody Simpsona 3/8\n",
    "\n",
    "\n",
    "**Punktacja**\n",
    "+ impementacja metody prostokątów **1p.**\n",
    "+ impementacja metody trapezów **1p.**\n",
    "+ impementacja metody Simpsona 3/8 **1p.**\n",
    "+ wykres przedstawiający wartości całki w zależności od liczby przedziałów użytych do jej obliczenia (dla wszystkich metod) **1p.**\n"
   ]
  },
  {
   "cell_type": "markdown",
   "metadata": {},
   "source": [
    "## Metoda prostokątów\n",
    "---\n",
    "![title](http://www.if.pw.edu.pl/~ryczkowski/download/MN/04/rectangle.png)\n",
    "\n",
    "$$I(f) = \\sum_{i=1}^{N} f(x_i)(x_{i+1}-x_i) = h\\sum_{i=1}^{N} f(x_i)$$"
   ]
  },
  {
   "cell_type": "markdown",
   "metadata": {},
   "source": [
    "## Metoda trapezów\n",
    "---\n",
    "\n",
    "$$I(f) = h \\sum_{i=1}^{N} \\left[ \\frac{f(x_i)+f(x_{i+1})}{2} \\right]$$"
   ]
  },
  {
   "cell_type": "markdown",
   "metadata": {},
   "source": [
    "## Metoda Simpsona 3/8\n",
    "---\n",
    "![title](http://www.if.pw.edu.pl/~ryczkowski/download/MN/04/simpsona38.png)\n",
    "\n",
    "$$I(f) = \\frac{3h}{8} \\sum_{i=1,4,7}^{N} \\left[ f(x_{i}) + 3f(x_{i+1}) + 3f(x_{i+2}) + f(x_{i+3}) \\right] $$"
   ]
  },
  {
   "cell_type": "markdown",
   "metadata": {},
   "source": [
    "## Wykonanie\n",
    "---\n",
    "Wczytanie bibliotek"
   ]
  },
  {
   "cell_type": "code",
   "execution_count": 60,
   "metadata": {
    "collapsed": false
   },
   "outputs": [],
   "source": [
    "import numpy as np\n",
    "import matplotlib.pyplot as plt\n",
    "import scipy.integrate as integrate"
   ]
  },
  {
   "cell_type": "markdown",
   "metadata": {},
   "source": [
    "Deklaracja funkcji oraz przedziału dla których liczona będzia całka"
   ]
  },
  {
   "cell_type": "code",
   "execution_count": 2,
   "metadata": {
    "collapsed": true
   },
   "outputs": [],
   "source": [
    "f = lambda x: x*np.exp(2*x)\n",
    "a = 0\n",
    "b = 4"
   ]
  },
  {
   "cell_type": "markdown",
   "metadata": {},
   "source": [
    "Implementacja funkcji realizującej metodę prostokątów"
   ]
  },
  {
   "cell_type": "code",
   "execution_count": 23,
   "metadata": {
    "collapsed": false
   },
   "outputs": [],
   "source": [
    "def rectangle(func, a, b, N):\n",
    "    \n",
    "    I = 0\n",
    "    h = np.abs(b-a)/N\n",
    "    for i in range(N):\n",
    "        I += func(a+i*h)\n",
    "    \n",
    "    I *= h\n",
    "    return I"
   ]
  },
  {
   "cell_type": "markdown",
   "metadata": {},
   "source": [
    "Sprawdzenie poprawności"
   ]
  },
  {
   "cell_type": "code",
   "execution_count": 24,
   "metadata": {
    "collapsed": false
   },
   "outputs": [
    {
     "name": "stdout",
     "output_type": "stream",
     "text": [
      "True\n",
      "4982.02638838\n"
     ]
    }
   ],
   "source": [
    "print(abs(rectangle(f,a,b,100)-integrate.quad(f, a, b)[0]) < 250)\n",
    "print(abs(rectangle(f,a,b,100)))"
   ]
  },
  {
   "cell_type": "markdown",
   "metadata": {},
   "source": [
    "Implementacja funkcji realizującej metodę trapezów"
   ]
  },
  {
   "cell_type": "code",
   "execution_count": 43,
   "metadata": {
    "collapsed": true
   },
   "outputs": [],
   "source": [
    "def trapezoidal(func, a, b, N):\n",
    "    \n",
    "    I = 0\n",
    "    h = np.abs(b-a)/N\n",
    "    for i in range(N):\n",
    "        I += func(a+i*h) + func(a+(i+1)*h)\n",
    "    \n",
    "    I *= h * 0.5\n",
    "    return I"
   ]
  },
  {
   "cell_type": "markdown",
   "metadata": {},
   "source": [
    "Sprawdzenie poprawności"
   ]
  },
  {
   "cell_type": "code",
   "execution_count": 44,
   "metadata": {
    "collapsed": false
   },
   "outputs": [
    {
     "name": "stdout",
     "output_type": "stream",
     "text": [
      "True\n",
      "5220.50302735\n"
     ]
    }
   ],
   "source": [
    "print(abs(trapezoidal(f,a,b,100)-integrate.quad(f, a, b)[0]) < 5)\n",
    "print(abs(trapezoidal(f,a,b,100)))"
   ]
  },
  {
   "cell_type": "markdown",
   "metadata": {},
   "source": [
    "Implementacja funkcji realizującej metodę Simpsona 3/8"
   ]
  },
  {
   "cell_type": "code",
   "execution_count": 54,
   "metadata": {
    "collapsed": false
   },
   "outputs": [],
   "source": [
    "def simpsona38(func, a, b, N):\n",
    "    \n",
    "    I = 0\n",
    "    h = np.abs(b-a)/N\n",
    "    for i in range(int(N/3)):\n",
    "        I += func(a+3*i*h) + 3*func(a+(3*i+1)*h) + 3*func(a+(3*i+2)*h) + func(a+(3*i+3)*h)\n",
    "    \n",
    "    I *= h * 3 / 8\n",
    "    return I"
   ]
  },
  {
   "cell_type": "markdown",
   "metadata": {},
   "source": [
    "Sprawdzenie poprawności"
   ]
  },
  {
   "cell_type": "code",
   "execution_count": 55,
   "metadata": {
    "collapsed": false
   },
   "outputs": [
    {
     "name": "stdout",
     "output_type": "stream",
     "text": [
      "True\n",
      "5216.93083827\n"
     ]
    }
   ],
   "source": [
    "print(abs(simpsona38(f,a,b,99)-integrate.quad(f, a, b)[0]) < 5e-3)\n",
    "print(abs(simpsona38(f,a,b,99)))"
   ]
  },
  {
   "cell_type": "markdown",
   "metadata": {},
   "source": [
    "Porównanie zbierzności metod"
   ]
  },
  {
   "cell_type": "code",
   "execution_count": 79,
   "metadata": {
    "collapsed": false
   },
   "outputs": [
    {
     "data": {
      "image/png": "[encoded data removed]",
      "text/plain": [
       "<matplotlib.figure.Figure at 0x7f65ae5c4978>"
      ]
     },
     "metadata": {},
     "output_type": "display_data"
    }
   ],
   "source": [
    "_max = 1000\n",
    "N = range(3,_max,3)\n",
    "\n",
    "\n",
    "r = []\n",
    "t = []\n",
    "s = []\n",
    "n = []\n",
    "\n",
    "for i in N:\n",
    "    r.append(rectangle(f,a,b,i))\n",
    "    t.append(trapezoidal(f,a,b,i))\n",
    "    s.append(simpsona38(f,a,b,i))\n",
    "    n.append(i)\n",
    "\n",
    "plt.plot(n,r,'--C1',label = 'metoda prostokątów')\n",
    "plt.plot(n,t,'-.C2',label = 'metoda trapezów')\n",
    "plt.plot(n,s,'c',label = 'metoda simpsona 3/8')\n",
    "plt.legend()\n",
    "plt.grid()\n",
    "plt.xlabel('liczba przedziałów')\n",
    "plt.xscale('log')\n",
    "plt.title(r'Porównanie metod całkowania na przykładzie funkcji $x e^{2x}$')\n",
    "plt.axhline(y=integrate.quad(f, a, b)[0], ls='--', c='grey')\n",
    "plt.show()"
   ]
  }
 ],
 "metadata": {
  "kernelspec": {
   "display_name": "Python 3",
   "language": "python",
   "name": "python3"
  },
  "language_info": {
   "codemirror_mode": {
    "name": "ipython",
    "version": 3
   },
   "file_extension": ".py",
   "mimetype": "text/x-python",
   "name": "python",
   "nbconvert_exporter": "python",
   "pygments_lexer": "ipython3",
   "version": "3.5.3"
  }
 },
 "nbformat": 4,
 "nbformat_minor": 2
}
