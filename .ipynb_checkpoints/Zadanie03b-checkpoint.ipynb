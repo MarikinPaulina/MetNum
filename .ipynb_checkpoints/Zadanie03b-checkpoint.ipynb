{
 "cells": [
  {
   "cell_type": "markdown",
   "metadata": {},
   "source": [
    "# Zadanie 03 (b)\n",
    "\n",
    "---\n",
    "#### Korzystając z odwrotnej metody potęgowej wyznacz wektor własny odpowiadający najmnijeszej wartości własnej macierzy \n",
    "\n",
    "$$ \\mathbf{A} = \\left[\\begin{array}{rrrrr} 6 & 5 &-5 \\\\ 2 & 6 &-2 \\\\ 2 & 5 &-1 \\\\ \\end{array}\\right]$$\n",
    "    \n",
    "**Punktacja**\n",
    "+ implemetacja odwrotnej metody potęgowej **4p.**\n"
   ]
  },
  {
   "cell_type": "markdown",
   "metadata": {},
   "source": [
    "## Teoria\n",
    "### Odwrotna metoda potęgowa\n",
    "---\n",
    "\n",
    "Metodę można stosować do znajdowania wektora własnego odpowiadającego najmnijeszej wartości własnej badanej macierzy $\\mathbf{A}$. Algorytm metody jest następujący\n",
    "1. Wybierz wektor początkowy $x$ i znormalizuj go $$x = \\frac{x}{\\left\\Vert x \\right\\Vert}$$\n",
    "2. Pomnoż $x$ przez macierz odwrotną macierzt $A$, otrzymany wektor znormalizuj $$x = \\mathbf{A}^{-1} \\cdot x$$ $$x = \\frac{x}{\\left\\Vert x \\right\\Vert}$$\n",
    "3. Powtarzaj krok 2 `n` razy"
   ]
  },
  {
   "cell_type": "markdown",
   "metadata": {},
   "source": [
    "## Wykonanie\n",
    "---\n",
    "Wczytanie bibliotek"
   ]
  },
  {
   "cell_type": "code",
   "execution_count": 1,
   "metadata": {
    "collapsed": true
   },
   "outputs": [],
   "source": [
    "import numpy as np\n",
    "import matplotlib.pyplot as plt"
   ]
  },
  {
   "cell_type": "markdown",
   "metadata": {},
   "source": [
    "Przypisanie wartości macierzy A"
   ]
  },
  {
   "cell_type": "code",
   "execution_count": 2,
   "metadata": {
    "collapsed": false
   },
   "outputs": [
    {
     "name": "stdout",
     "output_type": "stream",
     "text": [
      "[[ 6  5 -5]\n",
      " [ 2  6 -2]\n",
      " [ 2  5 -1]]\n"
     ]
    }
   ],
   "source": [
    "A = np.array([[6,5,-5],[2,6,-2],[2,5,-1]])\n",
    "print(A)"
   ]
  },
  {
   "cell_type": "markdown",
   "metadata": {},
   "source": [
    "Implementacja odwrotnej metody potęgowej"
   ]
  },
  {
   "cell_type": "code",
   "execution_count": 38,
   "metadata": {
    "collapsed": true
   },
   "outputs": [],
   "source": [
    "def invert_series_metod(M, v, n=50):\n",
    "    v = v/np.linalg.norm(v)\n",
    "    for i in range(n):\n",
    "        v = np.linalg.inv(M) @ v\n",
    "        v = v/np.linalg.norm(v)\n",
    "    return v"
   ]
  },
  {
   "cell_type": "markdown",
   "metadata": {},
   "source": [
    "Wybór wartości dla wektora początkowego `x`"
   ]
  },
  {
   "cell_type": "code",
   "execution_count": 7,
   "metadata": {
    "collapsed": true
   },
   "outputs": [],
   "source": [
    "x = np.array([1, 2, 12], dtype=float).reshape((3,1))"
   ]
  },
  {
   "cell_type": "markdown",
   "metadata": {},
   "source": [
    "Obliczenie wektora własnego dla macierzy A"
   ]
  },
  {
   "cell_type": "code",
   "execution_count": 39,
   "metadata": {
    "collapsed": false
   },
   "outputs": [],
   "source": [
    "v = invert_series_metod(A, x)"
   ]
  },
  {
   "cell_type": "markdown",
   "metadata": {},
   "source": [
    "Sprawdzenie poprawności wyniku"
   ]
  },
  {
   "cell_type": "code",
   "execution_count": 40,
   "metadata": {
    "collapsed": false
   },
   "outputs": [
    {
     "name": "stdout",
     "output_type": "stream",
     "text": [
      "True\n"
     ]
    }
   ],
   "source": [
    "print(np.allclose(A @ v, 1.0 * v))"
   ]
  },
  {
   "cell_type": "code",
   "execution_count": 41,
   "metadata": {
    "collapsed": false
   },
   "outputs": [
    {
     "name": "stdout",
     "output_type": "stream",
     "text": [
      "[[  7.07106781e-01]\n",
      " [  4.16333634e-17]\n",
      " [  7.07106781e-01]]\n"
     ]
    }
   ],
   "source": [
    "print(v)"
   ]
  },
  {
   "cell_type": "code",
   "execution_count": 9,
   "metadata": {
    "collapsed": true
   },
   "outputs": [],
   "source": []
  },
  {
   "cell_type": "code",
   "execution_count": 10,
   "metadata": {
    "collapsed": true
   },
   "outputs": [],
   "source": []
  },
  {
   "cell_type": "code",
   "execution_count": null,
   "metadata": {
    "collapsed": true
   },
   "outputs": [],
   "source": []
  }
 ],
 "metadata": {
  "kernelspec": {
   "display_name": "Python 3",
   "language": "python",
   "name": "python3"
  },
  "language_info": {
   "codemirror_mode": {
    "name": "ipython",
    "version": 3
   },
   "file_extension": ".py",
   "mimetype": "text/x-python",
   "name": "python",
   "nbconvert_exporter": "python",
   "pygments_lexer": "ipython3",
   "version": "3.5.3"
  }
 },
 "nbformat": 4,
 "nbformat_minor": 2
}
