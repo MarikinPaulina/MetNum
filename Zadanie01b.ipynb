{
 "cells": [
  {
   "cell_type": "markdown",
   "metadata": {},
   "source": [
    "# Zadanie 01 (b)\n",
    "\n",
    "---\n",
    "#### Napisz skrypt wyznaczający metodą siecznych miejsca zerowe funkcji \n",
    "$$f(x) = 3x^3 + 7x^2 -1$$\n",
    "#### na przedziale $x \\in (-3,2)$.\n",
    "    \n",
    "**Punktacja**\n",
    "+ funkcja zawierająca implementacje metody siecznych **[2p.]**\n",
    "+ wzynaczenie wszystkich miejsc zerowych **[1p.]**\n",
    "+ wyznacznie \"punktów pośrednich\" dla jednego z miejsc zerowych **[1p.]**\n"
   ]
  },
  {
   "cell_type": "markdown",
   "metadata": {},
   "source": [
    "## Metoda siecznych\n",
    "---\n",
    "![title](http://www.if.pw.edu.pl/~ryczkowski/download/MN/01/secant.png)\n",
    "\n",
    "Metoda korzysta z podobieństwa trójkątów: $$\\frac{f(x_1)-f(x_2)}{x_1-x_2} = \\frac{f(x_2)-0}{x_2-x_3}$$ stąd $$x_3 = x_2 - \\frac{f(x_2)(x_1-x_2)}{f(x_1)-f(x_2)}$$ Do wyznaczenia przybliżenia $k+1$ korzystamy z punktów $k-1$ i $k$ $$x_{k+1} = x_k - \\frac{f(x_k)(x_{k-1}-x_k)}{f(x_{k-1})-f(x_k)}$$"
   ]
  },
  {
   "cell_type": "markdown",
   "metadata": {},
   "source": [
    "## Wykonanie\n",
    "---\n",
    "Wczytanie bibliotek"
   ]
  },
  {
   "cell_type": "code",
   "execution_count": 1,
   "metadata": {},
   "outputs": [],
   "source": [
    "import numpy as np\n",
    "import matplotlib.pyplot as plt"
   ]
  },
  {
   "cell_type": "markdown",
   "metadata": {},
   "source": [
    "Deklaracja funkcji, dla której będą wyznczana miejsca zerowe (*wyrażenie lambda*)"
   ]
  },
  {
   "cell_type": "code",
   "execution_count": 2,
   "metadata": {},
   "outputs": [],
   "source": [
    "f = lambda x: 3*np.power(x,3) + 7*np.power(x,2) - 1"
   ]
  },
  {
   "cell_type": "markdown",
   "metadata": {},
   "source": [
    "Implementacja funkcji realizującej metodę bisekcji"
   ]
  },
  {
   "cell_type": "code",
   "execution_count": 3,
   "metadata": {},
   "outputs": [],
   "source": [
    "def secant(func, a, b, err = 1e-10):\n",
    "    \n",
    "    xp = a # x_k-1\n",
    "    xk = b # x_k\n",
    "    \n",
    "    while abs(xk - xp) > err:\n",
    "        \n",
    "        xp, xk = xk, (xk - (func(xk)*(xp-xk))/(func(xp)-func(xk)))\n",
    "        \n",
    "    return xk"
   ]
  },
  {
   "cell_type": "markdown",
   "metadata": {},
   "source": [
    "Wyznaczenie jednego miejsca zerowego"
   ]
  },
  {
   "cell_type": "code",
   "execution_count": 4,
   "metadata": {},
   "outputs": [],
   "source": [
    "a = -3\n",
    "b =  2\n",
    "\n",
    "z = secant(f, a, b)"
   ]
  },
  {
   "cell_type": "markdown",
   "metadata": {},
   "source": [
    "Sprawdzenie wyniku"
   ]
  },
  {
   "cell_type": "code",
   "execution_count": 5,
   "metadata": {},
   "outputs": [
    {
     "data": {
      "image/png": "[encoded data removed]",
      "text/plain": [
       "<Figure size 432x288 with 1 Axes>"
      ]
     },
     "metadata": {},
     "output_type": "display_data"
    }
   ],
   "source": [
    "x = np.linspace(a, b, 100)\n",
    "\n",
    "plt.axhline(0, linestyle='--', linewidth=1, color='black')\n",
    "plt.plot(x, f(x), color='blue')\n",
    "plt.plot(z, f(z), marker='.', markersize=15, color=\"red\")\n",
    "plt.show()"
   ]
  },
  {
   "cell_type": "markdown",
   "metadata": {},
   "source": [
    "Wyznaczenie wszystkich miejsc zerowych na zadanym przedziale"
   ]
  },
  {
   "cell_type": "code",
   "execution_count": 6,
   "metadata": {
    "scrolled": false
   },
   "outputs": [
    {
     "name": "stdout",
     "output_type": "stream",
     "text": [
      "[-3.  -2.5 -2.  -1.5 -1.  -0.5  0.   0.5  1.   1.5]\n"
     ]
    }
   ],
   "source": [
    "steps = np.arange(a,b, 0.5)\n",
    "print(steps)"
   ]
  },
  {
   "cell_type": "code",
   "execution_count": 7,
   "metadata": {},
   "outputs": [],
   "source": [
    "z = []\n",
    "for i in range(len(steps)-1):\n",
    "    if f(steps[i])*f(steps[i+1]) < 0:\n",
    "        z.append(secant(f,steps[i],steps[i+1]))\n",
    "\n",
    "z = np.array(z)"
   ]
  },
  {
   "cell_type": "markdown",
   "metadata": {},
   "source": [
    "Sprawdzenie wyników"
   ]
  },
  {
   "cell_type": "code",
   "execution_count": 8,
   "metadata": {},
   "outputs": [
    {
     "data": {
      "image/png": "[encoded data removed]",
      "text/plain": [
       "<Figure size 432x288 with 1 Axes>"
      ]
     },
     "metadata": {},
     "output_type": "display_data"
    }
   ],
   "source": [
    "plt.axhline(0, linestyle='--', linewidth=1, color='black')\n",
    "plt.plot(x, f(x), color='blue')\n",
    "plt.plot(z, f(z), marker='.', linestyle=' ', markersize=15, color=\"red\")\n",
    "plt.show()"
   ]
  },
  {
   "cell_type": "code",
   "execution_count": 9,
   "metadata": {},
   "outputs": [
    {
     "name": "stdout",
     "output_type": "stream",
     "text": [
      "[-2.26856285 -0.41707305  0.35230257]\n"
     ]
    }
   ],
   "source": [
    "print(z)"
   ]
  },
  {
   "cell_type": "markdown",
   "metadata": {},
   "source": [
    "Wyznaczenie pukntów pośrednich dla jednego z miejsc zerowych"
   ]
  },
  {
   "cell_type": "code",
   "execution_count": 10,
   "metadata": {},
   "outputs": [],
   "source": [
    "def secant02(func, a, b, err = 1e-10):\n",
    "    \n",
    "    xp = a # x_k-1\n",
    "    xk = b # x_k\n",
    "    z = [a,b]\n",
    "    \n",
    "    while abs(xk - xp) > err:\n",
    "        \n",
    "        xp, xk = xk, (xk - (func(xk)*(xp-xk))/(func(xp)-func(xk)))\n",
    "        z.append(xk)\n",
    "    return z"
   ]
  },
  {
   "cell_type": "code",
   "execution_count": 11,
   "metadata": {},
   "outputs": [
    {
     "name": "stdout",
     "output_type": "stream",
     "text": [
      "[-3.          2.         -1.64285714 -2.00320384 -2.66622389 -2.18128487\n",
      " -2.24251095 -2.27083807 -2.2685073  -2.26856274 -2.26856285 -2.26856285]\n"
     ]
    }
   ],
   "source": [
    "z_steps = secant02(f, a, b)\n",
    "z_steps = np.array(z_steps)\n",
    "print(z_steps)"
   ]
  },
  {
   "cell_type": "markdown",
   "metadata": {},
   "source": [
    "Wizualizacja wyniku"
   ]
  },
  {
   "cell_type": "code",
   "execution_count": 12,
   "metadata": {},
   "outputs": [
    {
     "data": {
      "image/png": "[encoded data removed]",
      "text/plain": [
       "<Figure size 432x288 with 1 Axes>"
      ]
     },
     "metadata": {},
     "output_type": "display_data"
    }
   ],
   "source": [
    "plt.axhline(0, linestyle='--', linewidth=1, color='black')\n",
    "plt.plot(x, f(x), color='blue')\n",
    "plt.plot(z_steps, f(z_steps), marker='.', linestyle=' ', markersize=15, color=\"orange\")\n",
    "plt.show()"
   ]
  }
 ],
 "metadata": {
  "kernelspec": {
   "display_name": "Python 3",
   "language": "python",
   "name": "python3"
  },
  "language_info": {
   "codemirror_mode": {
    "name": "ipython",
    "version": 3
   },
   "file_extension": ".py",
   "mimetype": "text/x-python",
   "name": "python",
   "nbconvert_exporter": "python",
   "pygments_lexer": "ipython3",
   "version": "3.6.4"
  }
 },
 "nbformat": 4,
 "nbformat_minor": 2
}
